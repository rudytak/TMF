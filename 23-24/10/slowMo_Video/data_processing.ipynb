{
 "cells": [
  {
   "cell_type": "markdown",
   "metadata": {},
   "source": [
    "Distance from the centre of the external magnet and the centre of the spinner = $65mm$\n",
    "Green magnet and red magnet\n",
    "We are tracking the angle of the spinner and comparing them with angles from the simulation\n",
    "Output: table with center xy, red magnet xy, green magnet xy\n",
    "calculate the xy with tangent\n",
    "\n",
    "C002 and C004 have a spinner centre of ~ x = 0px, y = 0px (difference of up to 3px)\n",
    "\n",
    "C002 = oscillation at 1000fps\n",
    "C004 = fast rotation at 1000fps\n",
    "C007 = slower rotation at 1000fps"
   ]
  }
 ],
 "metadata": {
  "kernelspec": {
   "display_name": "Python 3",
   "language": "python",
   "name": "python3"
  },
  "language_info": {
   "codemirror_mode": {
    "name": "ipython",
    "version": 3
   },
   "file_extension": ".py",
   "mimetype": "text/x-python",
   "name": "python",
   "nbconvert_exporter": "python",
   "pygments_lexer": "ipython3",
   "version": "3.11.1"
  }
 },
 "nbformat": 4,
 "nbformat_minor": 2
}
