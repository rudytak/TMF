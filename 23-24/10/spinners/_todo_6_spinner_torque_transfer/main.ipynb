{
 "cells": [
  {
   "cell_type": "markdown",
   "metadata": {},
   "source": [
    "| MODE      | Magnet stack | Distance [mm] | Max transferred ω [rad/s] (Y) | Control ω [rad/s] (R) |\n",
    "| --------- | ------------ | ------------- | ----------------------------- | --------------------- |\n",
    "| Repulsion | 1            | 82            |\n"
   ]
  }
 ],
 "metadata": {
  "language_info": {
   "name": "python"
  }
 },
 "nbformat": 4,
 "nbformat_minor": 2
}
