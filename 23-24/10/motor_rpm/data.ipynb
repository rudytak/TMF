{
 "cells": [
  {
   "cell_type": "code",
   "execution_count": null,
   "metadata": {},
   "outputs": [],
   "source": []
  },
  {
   "cell_type": "markdown",
   "metadata": {},
   "source": [
    "U = 1.50V\n",
    "I = 0.93A\n",
    "\n",
    "U = 2.00V\n",
    "I = 0.97A\n",
    "\n",
    "U = 2.50V\n",
    "I = 0.95A\n",
    "\n",
    "U = 3.00V\n",
    "I = 0.95A\n",
    "\n",
    "U = 4.00V\n",
    "I = 1.00A\n",
    "\n",
    "Odtud a dál, I kolísá mezi 1.06 - 1.09 a 1.12 - 1.16\n",
    "\n",
    "U = 5.00V\n",
    "I = 1.08A\n",
    "\n",
    "U = 6.00V\n",
    "I = 1.14A\n",
    "\n",
    "U = 7.00V\n",
    "I = 1.10A\n",
    "\n",
    "U = 8.00V\n",
    "I = 1.12A\n",
    "\n"
   ]
  }
 ],
 "metadata": {
  "language_info": {
   "name": "python"
  }
 },
 "nbformat": 4,
 "nbformat_minor": 2
}
